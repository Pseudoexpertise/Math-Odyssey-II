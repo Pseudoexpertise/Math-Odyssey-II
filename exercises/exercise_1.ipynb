{
 "cells": [
  {
   "cell_type": "markdown",
   "id": "76f35cf3",
   "metadata": {},
   "source": [
    "# <h1 style=\"text-align: center\">Sussy Donbassy</h1>"
   ]
  },
  {
   "cell_type": "markdown",
   "id": "e21cc2c7",
   "metadata": {},
   "source": [
    "Imagine you are a student from Jassynuwata and hear your classmates Pasha and Sergiy talking about something suspicious.\\\n",
    "You spied on them and figured out they would be using an image board as a means of communication and that they have written an encryption program to keep things secret.\\\n",
    "You weren't close enough to understand them without being seen. They were discussing how to make their encryption safe.\\\n",
    "The only thing you picked up for sure was the sentence \"five is enough\". You found their image board with [the encrypted messages](../assets/ciphers.txt). You extracted the messages and separated them from another by three line breaks each.\\\n",
    "Analyze these ciphers for encryptions that Pasha and Sergiy have used and determine their encryption method. Justify your guess with  probability theory and decrypt the messages."
   ]
  }
 ],
 "metadata": {
  "language_info": {
   "name": "python"
  }
 },
 "nbformat": 4,
 "nbformat_minor": 5
}
